{
 "cells": [
  {
   "cell_type": "markdown",
   "metadata": {},
   "source": [
    "# 4.1 Imports"
   ]
  },
  {
   "cell_type": "code",
   "execution_count": null,
   "metadata": {},
   "outputs": [],
   "source": [
    "# import libraries\n",
    "import numpy as np\n",
    "import pandas as pd\n",
    "import seaborn as sns\n",
    "\n",
    "from numpy import mean, std\n",
    "from collections import Counter\n",
    "import time\n",
    "import pickle\n",
    "\n",
    "from sklearn.compose import ColumnTransformer\n",
    "from sklearn.pipeline import Pipeline\n",
    "from sklearn.preprocessing import StandardScaler, OneHotEncoder\n",
    "from sklearn.decomposition import SparsePCA\n",
    "from sklearn.feature_selection import SelectFromModel\n",
    "from sklearn.linear_model import LogisticRegression\n",
    "from sklearn.svm import LinearSVC, SVC\n",
    "from sklearn.neighbors import KNeighborsClassifier\n",
    "from sklearn.tree import DecisionTreeClassifier\n",
    "from sklearn.ensemble import AdaBoostClassifier\n",
    "from sklearn.metrics import classification_report, recall_score, roc_auc_score\n",
    "from sklearn.model_selection import KFold, cross_val_score, GridSearchCV\n",
    "\n",
    "from imblearn.over_sampling import ADASYN\n",
    "from imblearn.pipeline import make_pipeline\n",
    "\n",
    "import matplotlib.pyplot as plt\n",
    "%matplotlib inline"
   ]
  },
  {
   "cell_type": "code",
   "execution_count": null,
   "metadata": {},
   "outputs": [],
   "source": [
    "# ignore warnings\n",
    "import warnings\n",
    "warnings.filterwarnings('ignore')"
   ]
  },
  {
   "cell_type": "code",
   "execution_count": null,
   "metadata": {},
   "outputs": [],
   "source": [
    "# load train data\n",
    "train = pd.read_csv('data/train_prep_1.csv')"
   ]
  },
  {
   "cell_type": "code",
   "execution_count": null,
   "metadata": {},
   "outputs": [],
   "source": [
    "# load test data\n",
    "test = pd.read_csv('data/test_prep_1.csv')"
   ]
  },
  {
   "cell_type": "code",
   "execution_count": null,
   "metadata": {},
   "outputs": [],
   "source": [
    "train.shape"
   ]
  },
  {
   "cell_type": "code",
   "execution_count": null,
   "metadata": {},
   "outputs": [],
   "source": [
    "test.shape"
   ]
  },
  {
   "cell_type": "code",
   "execution_count": null,
   "metadata": {},
   "outputs": [],
   "source": [
    "X_train = train.drop(columns=['target'])\n",
    "X_train.shape"
   ]
  },
  {
   "cell_type": "code",
   "execution_count": null,
   "metadata": {},
   "outputs": [],
   "source": [
    "X_test = test.drop(columns=['target'])\n",
    "X_test.shape"
   ]
  },
  {
   "cell_type": "code",
   "execution_count": null,
   "metadata": {},
   "outputs": [],
   "source": [
    "y_train = train['target']\n",
    "y_train.shape"
   ]
  },
  {
   "cell_type": "code",
   "execution_count": null,
   "metadata": {
    "scrolled": true
   },
   "outputs": [],
   "source": [
    "y_test = test['target']\n",
    "y_test.shape"
   ]
  },
  {
   "cell_type": "code",
   "execution_count": null,
   "metadata": {
    "scrolled": true
   },
   "outputs": [],
   "source": [
    "# temp, for deployment\n",
    "\n",
    "train.columns"
   ]
  },
  {
   "cell_type": "code",
   "execution_count": null,
   "metadata": {},
   "outputs": [],
   "source": [
    "model_list = []\n",
    "training_time_list = []\n",
    "recall_score_list = []"
   ]
  },
  {
   "cell_type": "markdown",
   "metadata": {},
   "source": [
    "# 4.2 Logistic Regression"
   ]
  },
  {
   "cell_type": "code",
   "execution_count": null,
   "metadata": {},
   "outputs": [],
   "source": [
    "# numerical features\n",
    "num_features = ['age','education','hours_per_week']\n",
    "\n",
    "# numerical transformer\n",
    "num_transformer = StandardScaler()"
   ]
  },
  {
   "cell_type": "code",
   "execution_count": null,
   "metadata": {},
   "outputs": [],
   "source": [
    "# categorical features\n",
    "cat_features = ['workclass','marital_status','occupation','relationship',\n",
    "               'race','sex','capital_change','native_country']\n",
    "\n",
    "# categorical transformer\n",
    "cat_transformer = OneHotEncoder(handle_unknown='ignore')"
   ]
  },
  {
   "cell_type": "code",
   "execution_count": null,
   "metadata": {},
   "outputs": [],
   "source": [
    "# preprocessing\n",
    "\n",
    "preprocessor = ColumnTransformer(transformers=[\n",
    "    ('num', num_transformer, num_features),\n",
    "    ('cat', cat_transformer, cat_features)\n",
    "])"
   ]
  },
  {
   "cell_type": "code",
   "execution_count": null,
   "metadata": {},
   "outputs": [],
   "source": [
    "# whole model pipeline\n",
    "\n",
    "logistic_regression = Pipeline(steps=[\n",
    "    ('preprocessor', preprocessor),\n",
    "    ('classifier',LogisticRegression(random_state=20210510, n_jobs=-1))\n",
    "])"
   ]
  },
  {
   "cell_type": "code",
   "execution_count": null,
   "metadata": {
    "scrolled": true
   },
   "outputs": [],
   "source": [
    "# model fitting\n",
    "\n",
    "start_time = time.time()\n",
    "\n",
    "logistic_regression.fit(X_train, y_train)\n",
    "\n",
    "end_time = time.time()\n",
    "\n",
    "training_time = end_time - start_time\n",
    "print(f'model training time: %.3fs' % training_time)"
   ]
  },
  {
   "cell_type": "code",
   "execution_count": null,
   "metadata": {},
   "outputs": [],
   "source": [
    "# model evaluation\n",
    "\n",
    "def print_score(model):\n",
    "    print('model score: %.3f' % model.score(X_test,y_test))\n",
    "    print('\\n')"
   ]
  },
  {
   "cell_type": "code",
   "execution_count": null,
   "metadata": {},
   "outputs": [],
   "source": [
    "# classification reports\n",
    "\n",
    "def print_classfication_reports(model):\n",
    "    y_test_pred = model.predict(X_test)\n",
    "\n",
    "    print('Classification report on test data:')\n",
    "    print(classification_report(y_test, y_test_pred))\n",
    "\n",
    "    y_train_pred = model.predict(X_train)\n",
    "\n",
    "    print('Classification report on train data:')\n",
    "    print(classification_report(y_train, y_train_pred))"
   ]
  },
  {
   "cell_type": "code",
   "execution_count": null,
   "metadata": {
    "scrolled": true
   },
   "outputs": [],
   "source": [
    "# model evaluation\n",
    "print_score(logistic_regression)\n",
    "\n",
    "# classification reports\n",
    "print_classfication_reports(logistic_regression)"
   ]
  },
  {
   "cell_type": "code",
   "execution_count": null,
   "metadata": {},
   "outputs": [],
   "source": [
    "# grid search 1\n",
    "\n",
    "param_grid = {\n",
    "    'classifier__penalty': ['l1', 'l2'],\n",
    "    'classifier__C': [0.1, 1.0, 10, 100]\n",
    "}\n",
    "\n",
    "grid_search = GridSearchCV(logistic_regression, param_grid, scoring='recall', verbose=1, cv=5, n_jobs=-1)\n",
    "grid_search.fit(X_train, y_train)\n",
    "\n",
    "print(\"Best params:\")\n",
    "print(grid_search.best_params_)"
   ]
  },
  {
   "cell_type": "code",
   "execution_count": null,
   "metadata": {},
   "outputs": [],
   "source": [
    "# grid search 2\n",
    "\n",
    "param_grid = {\n",
    "    'classifier__penalty': ['l2'],\n",
    "    'classifier__C': [100, 200, 300, 400, 500]\n",
    "}\n",
    "\n",
    "grid_search = GridSearchCV(logistic_regression, param_grid, scoring='recall', verbose=1, cv=5, n_jobs=-1)\n",
    "grid_search.fit(X_train, y_train)\n",
    "\n",
    "print(\"Best params:\")\n",
    "print(grid_search.best_params_)"
   ]
  },
  {
   "cell_type": "code",
   "execution_count": null,
   "metadata": {},
   "outputs": [],
   "source": [
    "# whole model pipeline with best params\n",
    "\n",
    "logistic_regression = Pipeline(steps=[\n",
    "    ('preprocessor', preprocessor),\n",
    "    ('classifier',LogisticRegression(C=300, random_state=20210510, n_jobs=-1))\n",
    "])\n",
    "\n",
    "# model fitting\n",
    "\n",
    "start_time = time.time()\n",
    "\n",
    "logistic_regression.fit(X_train, y_train)\n",
    "\n",
    "end_time = time.time()\n",
    "\n",
    "training_time = end_time - start_time\n",
    "print(f'model training time: %.3fs' % training_time)\n",
    "\n",
    "# model evaluation\n",
    "print_score(logistic_regression)\n",
    "\n",
    "# classification reports\n",
    "print_classfication_reports(logistic_regression)"
   ]
  },
  {
   "cell_type": "code",
   "execution_count": null,
   "metadata": {},
   "outputs": [],
   "source": [
    "# best of logistic regression\n",
    "\n",
    "model = 'logistic regression'\n",
    "training_time = 1.25\n",
    "recall_score = 0.57\n",
    "\n",
    "model_list.append(model)\n",
    "training_time_list.append(training_time)\n",
    "recall_score_list.append(recall_score)"
   ]
  },
  {
   "cell_type": "markdown",
   "metadata": {},
   "source": [
    "# 4.3 Logistic Regression with ADASYN"
   ]
  },
  {
   "cell_type": "code",
   "execution_count": null,
   "metadata": {},
   "outputs": [],
   "source": [
    "# preprocessing stay the same\n",
    "# only edit the whole model pipeline"
   ]
  },
  {
   "cell_type": "code",
   "execution_count": null,
   "metadata": {},
   "outputs": [],
   "source": [
    "# oversampler\n",
    "adasyn = ADASYN(random_state=20210517,n_jobs=-1)"
   ]
  },
  {
   "cell_type": "code",
   "execution_count": null,
   "metadata": {
    "scrolled": true
   },
   "outputs": [],
   "source": [
    "# as 'pipeline' in sklearn library does not support 'adasyn'\n",
    "# 'adasyn' function has no .fit_transform\n",
    "# have to use 'make_pipeline' in imblearn library\n",
    "\n",
    "logistic_adasyn = make_pipeline(preprocessor, adasyn ,LogisticRegression(random_state=20210510, n_jobs=-1))"
   ]
  },
  {
   "cell_type": "code",
   "execution_count": null,
   "metadata": {},
   "outputs": [],
   "source": [
    "# model fitting\n",
    "\n",
    "start_time = time.time()\n",
    "\n",
    "logistic_adasyn.fit(X_train, y_train)\n",
    "\n",
    "end_time = time.time()\n",
    "\n",
    "training_time = end_time - start_time\n",
    "print(f'model training time: %.3fs' % training_time)"
   ]
  },
  {
   "cell_type": "code",
   "execution_count": null,
   "metadata": {
    "scrolled": true
   },
   "outputs": [],
   "source": [
    "# model evaluation\n",
    "print_score(logistic_adasyn)\n",
    "\n",
    "# classification reports\n",
    "print_classfication_reports(logistic_adasyn)"
   ]
  },
  {
   "cell_type": "code",
   "execution_count": null,
   "metadata": {},
   "outputs": [],
   "source": [
    "# best of logistic regression with ADASYN\n",
    "\n",
    "model = 'logistic with ADASYN'\n",
    "training_time = 31.71\n",
    "recall_score = 0.87\n",
    "\n",
    "model_list.append(model)\n",
    "training_time_list.append(training_time)\n",
    "recall_score_list.append(recall_score)"
   ]
  },
  {
   "cell_type": "markdown",
   "metadata": {},
   "source": [
    "# 4.4 Linear Support Vector Classification (SVC)"
   ]
  },
  {
   "cell_type": "code",
   "execution_count": null,
   "metadata": {},
   "outputs": [],
   "source": [
    "# preprocessing stay the same\n",
    "# only edit the whole model pipeline"
   ]
  },
  {
   "cell_type": "code",
   "execution_count": null,
   "metadata": {},
   "outputs": [],
   "source": [
    "# whole model pipeline\n",
    "\n",
    "linear_svc = Pipeline(steps=[\n",
    "    ('preprocessor', preprocessor),\n",
    "    ('classifier',LinearSVC(random_state=20210518))\n",
    "])"
   ]
  },
  {
   "cell_type": "code",
   "execution_count": null,
   "metadata": {},
   "outputs": [],
   "source": [
    "# model fitting\n",
    "\n",
    "start_time = time.time()\n",
    "\n",
    "linear_svc.fit(X_train, y_train)\n",
    "\n",
    "end_time = time.time()\n",
    "\n",
    "training_time = end_time - start_time\n",
    "print(f'model training time: %.3fs' % training_time)"
   ]
  },
  {
   "cell_type": "code",
   "execution_count": null,
   "metadata": {},
   "outputs": [],
   "source": [
    "# model evaluation\n",
    "print_score(linear_svc)\n",
    "\n",
    "# classification reports\n",
    "print_classfication_reports(linear_svc)"
   ]
  },
  {
   "cell_type": "code",
   "execution_count": null,
   "metadata": {
    "scrolled": false
   },
   "outputs": [],
   "source": [
    "# grid search\n",
    "\n",
    "param_grid = {\n",
    "    'classifier__C': [0.1, 1.0, 10, 100]\n",
    "}\n",
    "\n",
    "grid_search = GridSearchCV(linear_svc, param_grid, scoring='recall', verbose=1, cv=5, n_jobs=-1)\n",
    "grid_search.fit(X_train, y_train)\n",
    "\n",
    "print(\"Best params:\")\n",
    "print(grid_search.best_params_)"
   ]
  },
  {
   "cell_type": "code",
   "execution_count": null,
   "metadata": {
    "scrolled": true
   },
   "outputs": [],
   "source": [
    "# whole model pipeline with best params\n",
    "\n",
    "linear_svc = Pipeline(steps=[\n",
    "    ('preprocessor', preprocessor),\n",
    "    ('classifier',LinearSVC(C=1.0, random_state=20210518))\n",
    "])\n",
    "\n",
    "# model fitting\n",
    "\n",
    "start_time = time.time()\n",
    "\n",
    "linear_svc.fit(X_train, y_train)\n",
    "\n",
    "end_time = time.time()\n",
    "\n",
    "training_time = end_time - start_time\n",
    "print(f'model training time: %.3fs' % training_time)\n",
    "\n",
    "# model evaluation\n",
    "print_score(linear_svc)\n",
    "\n",
    "# classification reports\n",
    "print_classfication_reports(linear_svc)"
   ]
  },
  {
   "cell_type": "code",
   "execution_count": null,
   "metadata": {},
   "outputs": [],
   "source": [
    "# best of linear SVC\n",
    "\n",
    "model = 'linear SVC'\n",
    "training_time = 4.48\n",
    "recall_score = 0.57\n",
    "\n",
    "model_list.append(model)\n",
    "training_time_list.append(training_time)\n",
    "recall_score_list.append(recall_score)"
   ]
  },
  {
   "cell_type": "markdown",
   "metadata": {},
   "source": [
    "# 4.5 K Nearest Neighbors Classification"
   ]
  },
  {
   "cell_type": "code",
   "execution_count": null,
   "metadata": {},
   "outputs": [],
   "source": [
    "# preprocessing stay the same\n",
    "# only edit the whole model pipeline"
   ]
  },
  {
   "cell_type": "code",
   "execution_count": null,
   "metadata": {},
   "outputs": [],
   "source": [
    "# whole model pipeline\n",
    "\n",
    "kneighbors = Pipeline(steps=[\n",
    "    ('preprocessor', preprocessor),\n",
    "    ('classifier',KNeighborsClassifier())\n",
    "])"
   ]
  },
  {
   "cell_type": "code",
   "execution_count": null,
   "metadata": {},
   "outputs": [],
   "source": [
    "# model fitting\n",
    "\n",
    "start_time = time.time()\n",
    "\n",
    "kneighbors.fit(X_train, y_train)\n",
    "\n",
    "end_time = time.time()\n",
    "\n",
    "training_time = end_time - start_time\n",
    "print(f'model training time: %.3fs' % training_time)"
   ]
  },
  {
   "cell_type": "code",
   "execution_count": null,
   "metadata": {},
   "outputs": [],
   "source": [
    "# model evaluation\n",
    "print_score(kneighbors)\n",
    "\n",
    "# classification reports\n",
    "print_classfication_reports(kneighbors)"
   ]
  },
  {
   "cell_type": "code",
   "execution_count": null,
   "metadata": {},
   "outputs": [],
   "source": [
    "# grid search\n",
    "\n",
    "param_grid = {\n",
    "    'classifier__n_neighbors': [5, 10, 25, 50, 100]\n",
    "}\n",
    "\n",
    "grid_search = GridSearchCV(kneighbors, param_grid, scoring='recall', verbose=1)\n",
    "grid_search.fit(X_train, y_train)\n",
    "\n",
    "print(\"Best params:\")\n",
    "print(grid_search.best_params_)"
   ]
  },
  {
   "cell_type": "code",
   "execution_count": null,
   "metadata": {
    "scrolled": true
   },
   "outputs": [],
   "source": [
    "# whole model pipeline with best params\n",
    "\n",
    "kneighbors = Pipeline(steps=[\n",
    "    ('preprocessor', preprocessor),\n",
    "    ('classifier',KNeighborsClassifier(n_neighbors=25))\n",
    "])\n",
    "\n",
    "# model fitting\n",
    "\n",
    "start_time = time.time()\n",
    "\n",
    "kneighbors.fit(X_train, y_train)\n",
    "\n",
    "end_time = time.time()\n",
    "\n",
    "training_time = end_time - start_time\n",
    "print(f'model training time: %.3fs' % training_time)\n",
    "\n",
    "# model evaluation\n",
    "print_score(kneighbors)\n",
    "\n",
    "# classification reports\n",
    "print_classfication_reports(kneighbors)"
   ]
  },
  {
   "cell_type": "code",
   "execution_count": null,
   "metadata": {},
   "outputs": [],
   "source": [
    "# best of K nearest neighbor classification\n",
    "\n",
    "model = 'K nearest neighbor'\n",
    "training_time = 0.24\n",
    "recall_score = 0.60\n",
    "\n",
    "model_list.append(model)\n",
    "training_time_list.append(training_time)\n",
    "recall_score_list.append(recall_score)"
   ]
  },
  {
   "cell_type": "markdown",
   "metadata": {},
   "source": [
    "# 4.6 Decision Tree Classification"
   ]
  },
  {
   "cell_type": "code",
   "execution_count": null,
   "metadata": {},
   "outputs": [],
   "source": [
    "# preprocessing stay the same\n",
    "# only edit the whole model pipeline"
   ]
  },
  {
   "cell_type": "code",
   "execution_count": null,
   "metadata": {},
   "outputs": [],
   "source": [
    "# whole model pipeline\n",
    "\n",
    "decision_tree = Pipeline(steps=[\n",
    "    ('preprocessor', preprocessor),\n",
    "    ('classifier', DecisionTreeClassifier(random_state=20210521, class_weight='balanced'))\n",
    "])"
   ]
  },
  {
   "cell_type": "code",
   "execution_count": null,
   "metadata": {},
   "outputs": [],
   "source": [
    "# model fitting\n",
    "\n",
    "start_time = time.time()\n",
    "\n",
    "decision_tree.fit(X_train, y_train)\n",
    "\n",
    "end_time = time.time()\n",
    "\n",
    "training_time = end_time - start_time\n",
    "print(f'model training time: %.3fs' % training_time)"
   ]
  },
  {
   "cell_type": "code",
   "execution_count": null,
   "metadata": {},
   "outputs": [],
   "source": [
    "# model evaluation\n",
    "print_score(decision_tree)\n",
    "\n",
    "# classification reports\n",
    "print_classfication_reports(decision_tree)"
   ]
  },
  {
   "cell_type": "code",
   "execution_count": null,
   "metadata": {
    "scrolled": true
   },
   "outputs": [],
   "source": [
    "# grid search 1\n",
    "\n",
    "depth = [\n",
    "    1, 2, 3, 4, 5,\n",
    "    6, 7, 8, 9, 10,\n",
    "    12, 14, 16, 18, 20\n",
    "]\n",
    "\n",
    "num_leaf = [\n",
    "    1, 2, 3, 4, 5,\n",
    "    6, 7, 8, 9, 10,\n",
    "    12, 14, 16, 18, 20\n",
    "]\n",
    "\n",
    "param_grid = {\n",
    "        'classifier__max_depth': depth,\n",
    "        'classifier__min_samples_leaf': num_leaf\n",
    "}\n",
    "\n",
    "grid_search = GridSearchCV(decision_tree, param_grid, scoring='recall', verbose=1, cv=5, n_jobs=-1)\n",
    "grid_search.fit(X_train, y_train)\n",
    "\n",
    "print(\"Best params:\")\n",
    "print(grid_search.best_params_)"
   ]
  },
  {
   "cell_type": "code",
   "execution_count": null,
   "metadata": {
    "scrolled": true
   },
   "outputs": [],
   "source": [
    "# whole model pipeline with best params\n",
    "\n",
    "decision_tree = Pipeline(steps=[\n",
    "    ('preprocessor', preprocessor),\n",
    "    ('classifier', DecisionTreeClassifier(max_depth=6, min_samples_leaf=4, random_state=20210521, class_weight='balanced'))\n",
    "])\n",
    "\n",
    "# model fitting\n",
    "\n",
    "start_time = time.time()\n",
    "\n",
    "decision_tree.fit(X_train, y_train)\n",
    "\n",
    "end_time = time.time()\n",
    "\n",
    "training_time = end_time - start_time\n",
    "print(f'model training time: %.3fs' % training_time)\n",
    "\n",
    "# model evaluation\n",
    "print_score(decision_tree)\n",
    "\n",
    "# classification reports\n",
    "\n",
    "print_classfication_reports(decision_tree)"
   ]
  },
  {
   "cell_type": "code",
   "execution_count": null,
   "metadata": {},
   "outputs": [],
   "source": [
    "# best of decision tree classification\n",
    "\n",
    "model = 'decision tree'\n",
    "training_time = 0.32\n",
    "recall_score = 0.88\n",
    "\n",
    "model_list.append(model)\n",
    "training_time_list.append(training_time)\n",
    "recall_score_list.append(recall_score)"
   ]
  },
  {
   "cell_type": "code",
   "execution_count": null,
   "metadata": {},
   "outputs": [],
   "source": [
    "# save model\n",
    "\n",
    "file_name = 'decision_tree_model.pkl'\n",
    "with open(file_name, 'wb') as file:\n",
    "    pickle.dump(decision_tree, file)"
   ]
  },
  {
   "cell_type": "code",
   "execution_count": null,
   "metadata": {},
   "outputs": [],
   "source": [
    "# for application\n",
    "# load model\n",
    "\n",
    "# file_name = 'decision_tree_model.pkl'\n",
    "# with open(file_name, 'rb') as file:\n",
    "#     model = pickle.load(file)"
   ]
  },
  {
   "cell_type": "markdown",
   "metadata": {},
   "source": [
    "# 4.7 Adaptive Boosting (Adaboost) Classification"
   ]
  },
  {
   "cell_type": "code",
   "execution_count": null,
   "metadata": {},
   "outputs": [],
   "source": [
    "# preprocessing stay the same\n",
    "# only edit the whole model pipeline"
   ]
  },
  {
   "cell_type": "code",
   "execution_count": null,
   "metadata": {},
   "outputs": [],
   "source": [
    "# whole model pipeline\n",
    "\n",
    "adaboost = Pipeline(steps=[\n",
    "    ('preprocessor', preprocessor),\n",
    "    ('classifier', AdaBoostClassifier(\n",
    "        DecisionTreeClassifier(max_depth=60, random_state=20210521, class_weight='balanced'),\n",
    "        random_state=20210526))\n",
    "])"
   ]
  },
  {
   "cell_type": "code",
   "execution_count": null,
   "metadata": {},
   "outputs": [],
   "source": [
    "# model fitting\n",
    "\n",
    "start_time = time.time()\n",
    "\n",
    "adaboost.fit(X_train, y_train)\n",
    "\n",
    "end_time = time.time()\n",
    "\n",
    "training_time = end_time - start_time\n",
    "print(f'model training time: %.3fs' % training_time)"
   ]
  },
  {
   "cell_type": "code",
   "execution_count": null,
   "metadata": {
    "scrolled": true
   },
   "outputs": [],
   "source": [
    "# model evaluation\n",
    "print_score(adaboost)\n",
    "\n",
    "# classification reports\n",
    "print_classfication_reports(adaboost)"
   ]
  },
  {
   "cell_type": "code",
   "execution_count": null,
   "metadata": {},
   "outputs": [],
   "source": [
    "# best of AdaBoost classification\n",
    "\n",
    "model = 'AdaBoost'\n",
    "training_time = 14.59\n",
    "recall_score = 0.61\n",
    "\n",
    "model_list.append(model)\n",
    "training_time_list.append(training_time)\n",
    "recall_score_list.append(recall_score)"
   ]
  },
  {
   "cell_type": "markdown",
   "metadata": {},
   "source": [
    "# 4.8 Performance Metrics Comparison"
   ]
  },
  {
   "cell_type": "code",
   "execution_count": null,
   "metadata": {},
   "outputs": [],
   "source": [
    "df = pd.DataFrame({\n",
    "    'model': model_list,\n",
    "    'training_time': training_time_list,\n",
    "    'recall_score': recall_score_list\n",
    "})"
   ]
  },
  {
   "cell_type": "code",
   "execution_count": null,
   "metadata": {
    "scrolled": true
   },
   "outputs": [],
   "source": [
    "df"
   ]
  },
  {
   "cell_type": "code",
   "execution_count": null,
   "metadata": {},
   "outputs": [],
   "source": [
    "df['efficiency (1/time)'] = df.training_time.apply(lambda x: 1/x)"
   ]
  },
  {
   "cell_type": "code",
   "execution_count": null,
   "metadata": {},
   "outputs": [],
   "source": [
    "df"
   ]
  },
  {
   "cell_type": "code",
   "execution_count": null,
   "metadata": {},
   "outputs": [],
   "source": [
    "fig, ax1 = plt.subplots(figsize=(20,10))\n",
    "ax2 = ax1.twinx()\n",
    "\n",
    "sns.lineplot(data=df['efficiency (1/time)'], marker='o', sort=False, ax=ax1, palette='Reds')\n",
    "sns.barplot(data=df, x='model', y='recall_score', alpha=0.5, ax=ax2, palette='Reds')"
   ]
  },
  {
   "cell_type": "code",
   "execution_count": null,
   "metadata": {},
   "outputs": [],
   "source": []
  },
  {
   "cell_type": "code",
   "execution_count": null,
   "metadata": {},
   "outputs": [],
   "source": []
  },
  {
   "cell_type": "code",
   "execution_count": null,
   "metadata": {},
   "outputs": [],
   "source": [
    "#END"
   ]
  }
 ],
 "metadata": {
  "kernelspec": {
   "display_name": "Python 3",
   "language": "python",
   "name": "python3"
  },
  "language_info": {
   "codemirror_mode": {
    "name": "ipython",
    "version": 3
   },
   "file_extension": ".py",
   "mimetype": "text/x-python",
   "name": "python",
   "nbconvert_exporter": "python",
   "pygments_lexer": "ipython3",
   "version": "3.8.5"
  }
 },
 "nbformat": 4,
 "nbformat_minor": 4
}
